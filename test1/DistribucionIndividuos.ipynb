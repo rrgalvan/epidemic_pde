{
 "cells": [
  {
   "cell_type": "code",
   "execution_count": null,
   "metadata": {},
   "outputs": [],
   "source": [
    "%load_ext autoreload\n",
    "%autoreload 2"
   ]
  },
  {
   "cell_type": "markdown",
   "metadata": {},
   "source": [
    "## Módulos y configuración"
   ]
  },
  {
   "cell_type": "code",
   "execution_count": null,
   "metadata": {},
   "outputs": [],
   "source": [
    "import numpy as np\n",
    "import matplotlib.pylab as plt\n",
    "\n",
    "import sys\n",
    "sys.path.append(\"../\") # El módulo está en el directorio superior\n",
    "import schemes.SIR_react_diffusion_1d as SIR_scheme\n",
    "from schemes.SIR_react_diffusion_1d import test_name, run_test\n",
    "#plt.style.use('seaborn-pastel')\n",
    "plt.style.use('seaborn-dark')\n",
    "plt.rcParams[\"figure.dpi\"] = 100"
   ]
  },
  {
   "cell_type": "markdown",
   "metadata": {},
   "source": [
    "## Ejecutar el test numérico"
   ]
  },
  {
   "cell_type": "code",
   "execution_count": null,
   "metadata": {},
   "outputs": [],
   "source": [
    "from copy import copy\n",
    "\n",
    "parameters = copy(SIR_scheme.default_parameters)\n",
    "parameters[\"nx\"] = 50\n",
    "parameters[\"dt\"] = 5.e-3\n",
    "parameters[\"n_iter\"] = 60\n",
    "parameters[\"beta\"] = 1.e-3 # Infection rate\n",
    "parameters[\"mu\"] = 0 # Nacimientos\n",
    "\n",
    "def test_1 (parameters):\n",
    "    import time\n",
    " \n",
    "    print ( f'{test_name}:' )\n",
    "    print ( '  FENICS/Python version' )\n",
    "    print ( '  Implicit solver.' )\n",
    "    print ( ' ', time.ctime ( time.time() ) )\n",
    "\n",
    "    plot_each_iteration = False\n",
    "    \n",
    "    S = [] # S[i] = distribution of susceptibles at time setp i\n",
    "    I = [] # I[i] = distribution of infected at time setp i\n",
    "    R = [] # R[i] = distribution of recovered at time setp i\n",
    "    \n",
    "    iter = 0\n",
    "    for S_i, I_i, R_i in run_test ( parameters, plot_options={ \"save\": False } ):\n",
    "\n",
    "        S.append(S_i[:]); I.append(I_i[:]); R.append(R_i[:])\n",
    "\n",
    "        if plot_each_iteration:\n",
    "            plt.plot(S, lw=2, label=\"(S)usceptibles\")\n",
    "            plt.plot(I, lw=2, label=\"(I)nfectados\")\n",
    "            plt.plot(R, lw=2, label=\"(R)ecovered\")\n",
    "\n",
    "            plt.legend()\n",
    "            plt.grid()\n",
    "            plt.show()\n",
    "\n",
    "    print ( '' )\n",
    "    print ( f\"{test_name}:\" )\n",
    "    print ( '  Normal end of execution.' )\n",
    "    print ( '' )\n",
    "    print ( time.ctime ( time.time() ) )\n",
    "    return S, I, R\n",
    "\n",
    "S, I, R = test_1(parameters)"
   ]
  },
  {
   "cell_type": "code",
   "execution_count": null,
   "metadata": {},
   "outputs": [],
   "source": [
    "def plot_summary_over_time(individuals, parameters, verbosity=0):\n",
    "    S, I, R = individuals\n",
    "    \n",
    "    # 1. Sum mumber of individuals at each time iteration\n",
    "    \n",
    "    S_sum = [] # Total number of susceptible at each time step\n",
    "    I_sum = [] # Total number of infected at each time step\n",
    "    R_sum = [] # Total number of infected at each time step\n",
    "    for i in range(len(S)):\n",
    "        S_sum.append(np.sum(S[i]))\n",
    "        I_sum.append(np.sum(I[i]))\n",
    "        R_sum.append(np.sum(R[i]))\n",
    "        if verbosity:\n",
    "            print(f\"Total Susceptibles: {S_sum[-1]}\")\n",
    "            print(f\"Total Infectados  : {I_sum[-1]}\")\n",
    "            print(f\"Total Recuperados : {R_sum[-1]}\")\n",
    "            \n",
    "    # 2. Plot S, I over time\n",
    "        \n",
    "    dt=parameters[\"dt\"]\n",
    "    nt=parameters[\"n_iter\"]\n",
    "    t_grid = np.linspace(0, nt*dt, nt+1)\n",
    "    plt.title(\"Evolution over time of S, I\")\n",
    "    plt.plot(t_grid, S_sum, \"-.\", lw=2, label=\"(S)usceptible\")\n",
    "    plt.plot(t_grid, I_sum,  \"-\", lw=3, label=\"(I)nfected\")\n",
    "    plt.plot(t_grid, R_sum, \"--\", lw=2, label=\"(R)ecovered\")\n",
    "    plt.xlabel(\"Time\")\n",
    "    plt.ylabel(\"Individuals\")\n",
    "    plt.ticklabel_format(axis='y', style='sci', scilimits=(-2,2))\n",
    "    plt.grid()\n",
    "    plt.legend()\n",
    "    plt.show()\n",
    "    "
   ]
  },
  {
   "cell_type": "code",
   "execution_count": null,
   "metadata": {},
   "outputs": [],
   "source": [
    "plot_summary_over_time([S, I, R], parameters)\n",
    "R"
   ]
  },
  {
   "cell_type": "markdown",
   "metadata": {},
   "source": [
    "## Crear un vídeo con los resultados"
   ]
  },
  {
   "cell_type": "code",
   "execution_count": null,
   "metadata": {},
   "outputs": [],
   "source": [
    "import numpy as np\n",
    "import matplotlib.pyplot as plt\n",
    "from matplotlib import animation\n",
    "from IPython.display import display, Image\n",
    "\n",
    "from matplotlib import animation\n",
    "from IPython.display import HTML\n",
    "\n",
    "Nx = len(S[0])\n",
    "Nt = len(S)\n",
    "x = np.arange(Nx)\n",
    "\n",
    "# First set up the figure, the axis, and the plot element we want to animate\n",
    "fig = plt.figure()\n",
    "maxS = max( [np.max(S[i]) for i in range(Nt)] )\n",
    "maxI = max( [np.max(I[i]) for i in range(Nt)] )\n",
    "maxR = max( [np.max(R[i]) for i in range(Nt)] )\n",
    "ax = plt.axes(xlim=(0, Nx), ylim=(-1, max(maxS, maxI, maxR)))\n",
    "ax.grid()\n",
    "ax.set_xlabel(\"Dominio espacial\")\n",
    "ax.set_title(\"Distribución espacial de individuos\")\n",
    "plt.ticklabel_format(axis='y', style='sci', scilimits=(-2,2))\n",
    "\n",
    "line, = ax.plot([], [], lw=1) \n",
    "\n",
    "lines = []\n",
    "for index in range(3): # S, I, R\n",
    "    lobj = ax.plot([],[])[0]\n",
    "    lines.append(lobj)\n",
    "    \n",
    "# Initialization function: plot the background of each frame\n",
    "def init():\n",
    "    for line in lines:\n",
    "        line.set_data([],[])\n",
    "    return lines\n",
    "\n",
    "\n",
    "# Animation function which updates figure data.  This is called sequentially\n",
    "def animate(i):\n",
    "    y_list = [ I[i], S[i], R[i] ]\n",
    "    label_list = [\"(I)nfectados\", \"(S)usceptibles\", \"(R)ecuperados\"]\n",
    "    for lnum, line in enumerate(lines):\n",
    "        line.set_data(x, y_list[lnum]) # set data for each line separately. \n",
    "        line.set_label(label_list[lnum])\n",
    "    ax.legend()\n",
    "    return lines\n",
    "\n",
    "# Call the animator.  blit=True means only rehttp://localhost:8888/notebooks/src/modelos_epidemia/modelos-difusion/Untitled2.ipynb#-draw the parts that have changed.\n",
    "anim = animation.FuncAnimation(fig, animate, init_func=init,\n",
    "                               frames=Nt, interval=300, blit=True)\n",
    "\n",
    "#plt.close(anim._fig)\n",
    "\n",
    "# Call function to display the animation\n",
    "HTML(anim.to_html5_video())\n"
   ]
  },
  {
   "cell_type": "code",
   "execution_count": null,
   "metadata": {},
   "outputs": [],
   "source": []
  },
  {
   "cell_type": "code",
   "execution_count": null,
   "metadata": {},
   "outputs": [],
   "source": []
  }
 ],
 "metadata": {
  "@webio": {
   "lastCommId": null,
   "lastKernelId": null
  },
  "kernelspec": {
   "display_name": "Python 3",
   "language": "python",
   "name": "python3"
  },
  "language_info": {
   "codemirror_mode": {
    "name": "ipython",
    "version": 3
   },
   "file_extension": ".py",
   "mimetype": "text/x-python",
   "name": "python",
   "nbconvert_exporter": "python",
   "pygments_lexer": "ipython3",
   "version": "3.8.2"
  }
 },
 "nbformat": 4,
 "nbformat_minor": 4
}
